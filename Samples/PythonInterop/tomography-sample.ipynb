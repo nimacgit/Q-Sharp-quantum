{
 "cells": [
  {
   "cell_type": "markdown",
   "metadata": {},
   "source": [
    "# Quantum Process Tomography with Q# and Python #"
   ]
  },
  {
   "cell_type": "markdown",
   "metadata": {},
   "source": [
    "## Abstract ##"
   ]
  },
  {
   "cell_type": "markdown",
   "metadata": {},
   "source": [
    "In this sample, we will demonstrate interoperability between Q# and Python by using the QInfer and QuTiP libraries for Python to characterize and verify quantum processes implemented in Q#.\n",
    "In particular, this sample will use *quantum process tomography* to learn about the behavior of a \"noisy\" Hadamard operation from the results of random Pauli measurements."
   ]
  },
  {
   "cell_type": "markdown",
   "metadata": {},
   "source": [
    "## Preamble ##"
   ]
  },
  {
   "cell_type": "markdown",
   "metadata": {},
   "source": [
    "When working with Q# from languages other than C#, we normally need to separate Q# operations and functions into their own project.\n",
    "We can then add the project containing our new operations as a *reference* to our interoperability project in order to run from within Visual Studio.\n",
    "For running from Jupyter, though, we must manually add the other project to `sys.path` so that Python.NET can find the assemblies containing our new operations, as well as the assemblies from the rest of the Quantum Development Kit that get included as dependencies."
   ]
  },
  {
   "cell_type": "code",
   "execution_count": 1,
   "metadata": {},
   "outputs": [
    {
     "data": {
      "text/html": [
       "<style>\n",
       "\n",
       "    .clr-repr-table td {\n",
       "        text-align: left;\n",
       "    }\n",
       "\n",
       "    div.output_area pre.simulator-output {\n",
       "        border-left: solid 12px #409AE1;\n",
       "        padding-left: 4px;\n",
       "        margin-left: -4px\n",
       "    }\n",
       "\n",
       "</style>"
      ],
      "text/plain": []
     },
     "metadata": {},
     "output_type": "display_data"
    }
   ],
   "source": [
    "import qsharp \n",
    "from qsharp.tomography import single_qubit_process_tomography"
   ]
  },
  {
   "cell_type": "code",
   "execution_count": 2,
   "metadata": {
    "collapsed": true
   },
   "outputs": [],
   "source": [
    "import warnings; warnings.filterwarnings('ignore')"
   ]
  },
  {
   "cell_type": "code",
   "execution_count": 3,
   "metadata": {
    "collapsed": true
   },
   "outputs": [],
   "source": [
    "import sys\n",
    "sys.path.append('./bin/Debug/netstandard2.0')"
   ]
  },
  {
   "cell_type": "markdown",
   "metadata": {},
   "source": [
    "With the new assemblies added to `sys.path`, we can reference them using the Python.NET `clr` package."
   ]
  },
  {
   "cell_type": "code",
   "execution_count": 4,
   "metadata": {},
   "outputs": [
    {
     "data": {
      "text/plain": [
       "<System.Reflection.RuntimeAssembly at 0x178e093ccc0>"
      ]
     },
     "execution_count": 4,
     "metadata": {},
     "output_type": "execute_result"
    }
   ],
   "source": [
    "import clr\n",
    "clr.AddReference(\"Microsoft.Quantum.Canon\")\n",
    "clr.AddReference(\"PythonInterop\")"
   ]
  },
  {
   "cell_type": "markdown",
   "metadata": {},
   "source": [
    "Next, we import plotting support and the QuTiP library, since these will be helpful to us in manipulating the quantum objects returned by the quantum process tomography functionality that we call later."
   ]
  },
  {
   "cell_type": "code",
   "execution_count": 5,
   "metadata": {
    "collapsed": true
   },
   "outputs": [],
   "source": [
    "%matplotlib inline\n",
    "import matplotlib.pyplot as plt"
   ]
  },
  {
   "cell_type": "code",
   "execution_count": 6,
   "metadata": {
    "collapsed": true
   },
   "outputs": [],
   "source": [
    "import qutip as qt\n",
    "qt.settings.colorblind_safe = True"
   ]
  },
  {
   "cell_type": "markdown",
   "metadata": {},
   "source": [
    "## Setting up the Simulator ##"
   ]
  },
  {
   "cell_type": "markdown",
   "metadata": {},
   "source": [
    "This sample is provided along with a small Python package to help facilitate interoperability.\n",
    "We can import this package like any other Python package, provided that we have set `sys.path` correctly."
   ]
  },
  {
   "cell_type": "markdown",
   "metadata": {},
   "source": [
    "In particular, the `qsharp` package provides a `QuantumSimulator` class which wraps the `Microsoft.Quantum.Simulation.Simulators.QuantumSimulator` .NET class provided with the Quantum Development Kit.\n",
    "This wrapper provides a few useful convienence features that we will use along the way."
   ]
  },
  {
   "cell_type": "code",
   "execution_count": 7,
   "metadata": {},
   "outputs": [
    {
     "data": {
      "text/html": [
       "\n",
       "        <strong>Quantum Simulator</strong>\n",
       "        <table class=\"clr-repr-table\">\n",
       "            \n",
       "                <tr>\n",
       "                    <td colspan=\"2\">\n",
       "                        <pre>Microsoft.Quantum.Simulation.Simulators.QuantumSimulator</pre>\n",
       "                    </td>\n",
       "                </tr>\n",
       "            \n",
       "            <tr>\n",
       "                <td>\n",
       "                    Python type\n",
       "                </td>\n",
       "                <td>\n",
       "                    qsharp.QuantumSimulator\n",
       "                </td>\n",
       "            </tr>\n",
       "\n",
       "            <tr>\n",
       "                <td>\n",
       "                    CLR type\n",
       "                </td>\n",
       "                <td>\n",
       "                    Microsoft.Quantum.Simulation.Simulators.QuantumSimulator\n",
       "                </td>\n",
       "            </tr>\n",
       "\n",
       "            <tr>\n",
       "                <td>\n",
       "                    Assembly name\n",
       "                </td>\n",
       "\n",
       "                <td>\n",
       "                    Microsoft.Quantum.Simulation.Simulators, Version=0.2.1806.3001, Culture=neutral, PublicKeyToken=40866b40fd95c7f5\n",
       "                </td>\n",
       "            </tr>\n",
       "\n",
       "            \n",
       "                <tr>\n",
       "                    <td>\n",
       "                        Methods\n",
       "                    </td>\n",
       "\n",
       "                    <td><pre>UInt32 get_Seed()</pre></td>\n",
       "\n",
       "                    <tr><td></td><td><pre>String get_Name()</pre></td></tr>\n",
       "<tr><td></td><td><pre>Void Dispose()</pre></td></tr>\n",
       "<tr><td></td><td><pre>Void add_OnLog(Action`1<System.String> value)</pre></td></tr>\n",
       "<tr><td></td><td><pre>Void remove_OnLog(Action`1<System.String> value)</pre></td></tr>\n",
       "<tr><td></td><td><pre>IQubitManager get_QubitManager()</pre></td></tr>\n",
       "<tr><td></td><td><pre>I Get()</pre></td></tr>\n",
       "<tr><td></td><td><pre>Void Validate(AbstractOperation<> op)</pre></td></tr>\n",
       "<tr><td></td><td><pre>Task`1 Run(I<> args)</pre></td></tr>\n",
       "<tr><td></td><td><pre>Void CheckQubit(Qubit<> q, String<> qubitName)</pre></td></tr>\n",
       "<tr><td></td><td><pre>Void CheckQubits(QArray`1<Microsoft.Quantum.Simulation.Core.Qubit> qubits, String<> arrayName)</pre></td></tr>\n",
       "<tr><td></td><td><pre>Void StartOperation(String<> operationName, OperationFunctor<> functor, Object<> inputValue)</pre></td></tr>\n",
       "<tr><td></td><td><pre>Void EndOperation(String<> operationName, OperationFunctor<> functor, Object<> resultValue)</pre></td></tr>\n",
       "<tr><td></td><td><pre>Void Register(Type<> original, Type<> replace, Type<> signature)</pre></td></tr>\n",
       "<tr><td></td><td><pre>Object GetInstance(Type<> t)</pre></td></tr>\n",
       "<tr><td></td><td><pre>Boolean CanCache(AbstractOperation<> obj)</pre></td></tr>\n",
       "<tr><td></td><td><pre>String ToString()</pre></td></tr>\n",
       "<tr><td></td><td><pre>Boolean Equals(Object<> obj)</pre></td></tr>\n",
       "<tr><td></td><td><pre>Int32 GetHashCode()</pre></td></tr>\n",
       "<tr><td></td><td><pre>Type GetType()</pre></td></tr>\n",
       "                </tr>\n",
       "            \n",
       "        </table>\n",
       "        "
      ],
      "text/plain": [
       "<QuantumSimulator(Microsoft.Quantum.Simulation.Simulators.QuantumSimulator) at 0x178e0986e80>"
      ]
     },
     "execution_count": 7,
     "metadata": {},
     "output_type": "execute_result"
    }
   ],
   "source": [
    "qsim = qsharp.QuantumSimulator()\n",
    "qsim"
   ]
  },
  {
   "cell_type": "markdown",
   "metadata": {},
   "source": [
    "We can use our new simulator instance to run operations and functions defined in Q#.\n",
    "To do so, we import the operation and function names as though the Q# namespaces were Python packages."
   ]
  },
  {
   "cell_type": "code",
   "execution_count": 8,
   "metadata": {
    "collapsed": true
   },
   "outputs": [],
   "source": [
    "from Microsoft.Quantum.Samples.Python import (\n",
    "    HelloWorld, NoisyHadamardChannel\n",
    ")"
   ]
  },
  {
   "cell_type": "markdown",
   "metadata": {},
   "source": [
    "Once we've imported the new names, we can then ask our simulator to run each function and operation using the `run` method.\n",
    "Jupyter will denote messages emitted by the simulator with a blue sidebar to separate them from normal Python output."
   ]
  },
  {
   "cell_type": "code",
   "execution_count": 9,
   "metadata": {},
   "outputs": [
    {
     "data": {
      "text/html": [
       "\n",
       "        <strong>Microsoft.Quantum.Samples.Python.HelloWorld</strong>\n",
       "        <table class=\"clr-repr-table\">\n",
       "            \n",
       "            <tr>\n",
       "                <td>\n",
       "                    Python type\n",
       "                </td>\n",
       "                <td>\n",
       "                    qsharp.Callable\n",
       "                </td>\n",
       "            </tr>\n",
       "\n",
       "            <tr>\n",
       "                <td>\n",
       "                    CLR type\n",
       "                </td>\n",
       "                <td>\n",
       "                    Microsoft.Quantum.Samples.Python.HelloWorld\n",
       "                </td>\n",
       "            </tr>\n",
       "\n",
       "            <tr>\n",
       "                <td>\n",
       "                    Assembly name\n",
       "                </td>\n",
       "\n",
       "                <td>\n",
       "                    PythonInterop, Version=1.0.0.0, Culture=neutral, PublicKeyToken=null\n",
       "                </td>\n",
       "            </tr>\n",
       "\n",
       "            \n",
       "        </table>\n",
       "        "
      ],
      "text/plain": [
       "<Callable(Microsoft.Quantum.Samples.Python.HelloWorld) at 0x178e09ca588>"
      ]
     },
     "execution_count": 9,
     "metadata": {},
     "output_type": "execute_result"
    }
   ],
   "source": [
    "hello_world = qsim.get(HelloWorld)\n",
    "hello_world"
   ]
  },
  {
   "cell_type": "code",
   "execution_count": 10,
   "metadata": {},
   "outputs": [
    {
     "data": {
      "text/html": [
       "\n",
       "<pre class=\"simulator-output\">Hello, world! PauliZ</pre>\n"
      ],
      "text/plain": [
       "'Hello, world! PauliZ'"
      ]
     },
     "metadata": {},
     "output_type": "display_data"
    }
   ],
   "source": [
    "qsim.run(hello_world, qsharp.Pauli.Z).Wait()"
   ]
  },
  {
   "cell_type": "markdown",
   "metadata": {},
   "source": [
    "To obtain the output from a Q# operation or function, we must use the `result` function, since outputs are wrapped in .NET asynchronous tasks.\n",
    "These tasks are wrapped in a future-like object for convienence."
   ]
  },
  {
   "cell_type": "code",
   "execution_count": 11,
   "metadata": {},
   "outputs": [
    {
     "data": {
      "text/html": [
       "\n",
       "        <strong>Wrapped CLR Object</strong>\n",
       "        <table class=\"clr-repr-table\">\n",
       "            \n",
       "                <tr>\n",
       "                    <td colspan=\"2\">\n",
       "                        <pre>Microsoft.Quantum.Samples.Python.NoisyHadamardChannelImpl((0.1,_))</pre>\n",
       "                    </td>\n",
       "                </tr>\n",
       "            \n",
       "            <tr>\n",
       "                <td>\n",
       "                    Python type\n",
       "                </td>\n",
       "                <td>\n",
       "                    qsharp.clr_wrapper.WrappedCLRObject\n",
       "                </td>\n",
       "            </tr>\n",
       "\n",
       "            <tr>\n",
       "                <td>\n",
       "                    CLR type\n",
       "                </td>\n",
       "                <td>\n",
       "                    Microsoft.Quantum.Simulation.Core.PartialUnitary`2[[Microsoft.Quantum.Simulation.Core.Qubit, Microsoft.Quantum.Simulation.Core, Version=0.2.1806.3001, Culture=neutral, PublicKeyToken=40866b40fd95c7f5],[System.ValueTuple`2[[System.Double, mscorlib, Version=4.0.0.0, Culture=neutral, PublicKeyToken=b77a5c561934e089],[Microsoft.Quantum.Simulation.Core.Qubit, Microsoft.Quantum.Simulation.Core, Version=0.2.1806.3001, Culture=neutral, PublicKeyToken=40866b40fd95c7f5]], mscorlib, Version=4.0.0.0, Culture=neutral, PublicKeyToken=b77a5c561934e089]]\n",
       "                </td>\n",
       "            </tr>\n",
       "\n",
       "            <tr>\n",
       "                <td>\n",
       "                    Assembly name\n",
       "                </td>\n",
       "\n",
       "                <td>\n",
       "                    Microsoft.Quantum.Simulation.Core, Version=0.2.1806.3001, Culture=neutral, PublicKeyToken=40866b40fd95c7f5\n",
       "                </td>\n",
       "            </tr>\n",
       "\n",
       "            \n",
       "                <tr>\n",
       "                    <td>\n",
       "                        Methods\n",
       "                    </td>\n",
       "\n",
       "                    <td><pre>Type[] get_Dependencies()</pre></td>\n",
       "\n",
       "                    <tr><td></td><td><pre>Operation`2 get_BaseOp()</pre></td></tr>\n",
       "<tr><td></td><td><pre>Func`2 get_Mapper()</pre></td></tr>\n",
       "<tr><td></td><td><pre>Func`2 get_Body()</pre></td></tr>\n",
       "<tr><td></td><td><pre>Func`2 get_AdjointBody()</pre></td></tr>\n",
       "<tr><td></td><td><pre>Func`2 get_ControlledBody()</pre></td></tr>\n",
       "<tr><td></td><td><pre>Func`2 get_ControlledAdjointBody()</pre></td></tr>\n",
       "<tr><td></td><td><pre>List`1 GetQubits()</pre></td></tr>\n",
       "<tr><td></td><td><pre>String ToString()</pre></td></tr>\n",
       "<tr><td></td><td><pre>QVoid Apply(Qubit<> args)</pre></td></tr>\n",
       "<tr><td></td><td><pre>Object Partial(Object<> partialTuple)</pre></td></tr>\n",
       "<tr><td></td><td><pre>IOperationFactory get_Factory()</pre></td></tr>\n",
       "<tr><td></td><td><pre>Boolean Equals(Object<> obj)</pre></td></tr>\n",
       "<tr><td></td><td><pre>Int32 GetHashCode()</pre></td></tr>\n",
       "<tr><td></td><td><pre>Type GetType()</pre></td></tr>\n",
       "                </tr>\n",
       "            \n",
       "        </table>\n",
       "        "
      ],
      "text/plain": [
       "<WrappedCLRObject(Microsoft.Quantum.Simulation.Core.PartialUnitary`2[[Microsoft.Quantum.Simulation.Core.Qubit, Microsoft.Quantum.Simulation.Core, Version=0.2.1806.3001, Culture=neutral, PublicKeyToken=40866b40fd95c7f5],[System.ValueTuple`2[[System.Double, mscorlib, Version=4.0.0.0, Culture=neutral, PublicKeyToken=b77a5c561934e089],[Microsoft.Quantum.Simulation.Core.Qubit, Microsoft.Quantum.Simulation.Core, Version=0.2.1806.3001, Culture=neutral, PublicKeyToken=40866b40fd95c7f5]], mscorlib, Version=4.0.0.0, Culture=neutral, PublicKeyToken=b77a5c561934e089]]) at 0x178e09d1160>"
      ]
     },
     "execution_count": 11,
     "metadata": {},
     "output_type": "execute_result"
    }
   ],
   "source": [
    "noisy_h = qsim.run(NoisyHadamardChannel, 0.1).result()\n",
    "noisy_h"
   ]
  },
  {
   "cell_type": "markdown",
   "metadata": {},
   "source": [
    "## Tomography ##"
   ]
  },
  {
   "cell_type": "markdown",
   "metadata": {},
   "source": [
    "The `qsharp` interoperability package also comes with a `single_qubit_process_tomography` function which uses the QInfer library for Python to learn the channels corresponding to single-qubit Q# operations.\n",
    "Here, we ask for 10,000 measurements from the noisy Hadamard operation that we defined above."
   ]
  },
  {
   "cell_type": "code",
   "execution_count": 12,
   "metadata": {},
   "outputs": [
    {
     "name": "stdout",
     "output_type": "stream",
     "text": [
      "Preparing tomography model...\n",
      "Performing tomography...\n"
     ]
    }
   ],
   "source": [
    "estimation_results = single_qubit_process_tomography(qsim, noisy_h, n_measurements=10000)"
   ]
  },
  {
   "cell_type": "markdown",
   "metadata": {},
   "source": [
    "To visualize the results, it's helpful to compare to the actual channel, which we can find exactly in QuTiP."
   ]
  },
  {
   "cell_type": "code",
   "execution_count": 13,
   "metadata": {
    "collapsed": true
   },
   "outputs": [],
   "source": [
    "depolarizing_channel = sum(map(qt.to_super, [qt.qeye(2), qt.sigmax(), qt.sigmay(), qt.sigmaz()])) / 4.0\n",
    "actual_noisy_h = 0.1 * qt.to_choi(depolarizing_channel) + 0.9 * qt.to_choi(qt.hadamard_transform())"
   ]
  },
  {
   "cell_type": "markdown",
   "metadata": {},
   "source": [
    "We then plot the estimated and actual channels as Hinton diagrams, showing how each acts on the Pauli operators $X$, $Y$ and $Z$."
   ]
  },
  {
   "cell_type": "code",
   "execution_count": 14,
   "metadata": {},
   "outputs": [
    {
     "data": {
      "text/plain": [
       "(None, <matplotlib.axes._subplots.AxesSubplot at 0x178e367f198>)"
      ]
     },
     "execution_count": 14,
     "metadata": {},
     "output_type": "execute_result"
    },
    {
     "data": {
      "image/png": "[encoded data removed]",
      "text/plain": [
       "<matplotlib.figure.Figure at 0x178e361ec88>"
      ]
     },
     "metadata": {},
     "output_type": "display_data"
    }
   ],
   "source": [
    "fig, (left, right) = plt.subplots(ncols=2, figsize=(12, 4))\n",
    "plt.sca(left)\n",
    "plt.xlabel('Estimated', fontsize='x-large')\n",
    "qt.visualization.hinton(estimation_results['est_channel'], ax=left)\n",
    "plt.sca(right)\n",
    "plt.xlabel('Actual', fontsize='x-large')\n",
    "qt.visualization.hinton(actual_noisy_h, ax=right)"
   ]
  },
  {
   "cell_type": "markdown",
   "metadata": {},
   "source": [
    "We also obtain a wealth of other information as well, such as the covariance matrix over each parameter of the resulting channel.\n",
    "This shows us which parameters we are least certain about, as well as how those parameters are correlated with each other."
   ]
  },
  {
   "cell_type": "code",
   "execution_count": 15,
   "metadata": {},
   "outputs": [
    {
     "data": {
      "text/plain": [
       "(array([ 0,  1,  2,  3,  4,  5,  6,  7,  8,  9, 10, 11, 12, 13, 14, 15]),\n",
       " <a list of 16 Text xticklabel objects>)"
      ]
     },
     "execution_count": 15,
     "metadata": {},
     "output_type": "execute_result"
    },
    {
     "data": {
      "image/png": "[encoded data removed]",
      "text/plain": [
       "<matplotlib.figure.Figure at 0x178e361e6a0>"
      ]
     },
     "metadata": {},
     "output_type": "display_data"
    }
   ],
   "source": [
    "plt.figure(figsize=(10, 10))\n",
    "estimation_results['posterior'].plot_covariance()\n",
    "plt.xticks(rotation=90)"
   ]
  },
  {
   "cell_type": "markdown",
   "metadata": {},
   "source": [
    "## Diagnostics ##"
   ]
  },
  {
   "cell_type": "code",
   "execution_count": 16,
   "metadata": {},
   "outputs": [
    {
     "name": "stdout",
     "output_type": "stream",
     "text": [
      "\n",
      "Python version:                  3.6.4 | packaged by conda-forge | (default, Dec 24 2017, 10:11:43) [MSC v.1900 64 bit (AMD64)]\n",
      "Quantum Development Kit version: 0.2.1806.3001\n",
      "\n"
     ]
    }
   ],
   "source": [
    "import sys\n",
    "print(\"\"\"\n",
    "Python version:                  {}\n",
    "Quantum Development Kit version: {}\n",
    "\"\"\".format(sys.version, qsharp.__version__))"
   ]
  }
 ],
 "metadata": {
  "kernelspec": {
   "display_name": "Python [conda env:qsharp-samples]",
   "language": "python",
   "name": "conda-env-qsharp-samples-py"
  },
  "language_info": {
   "codemirror_mode": {
    "name": "ipython",
    "version": 3
   },
   "file_extension": ".py",
   "mimetype": "text/x-python",
   "name": "python",
   "nbconvert_exporter": "python",
   "pygments_lexer": "ipython3",
   "version": "3.6.4"
  }
 },
 "nbformat": 4,
 "nbformat_minor": 2
}
